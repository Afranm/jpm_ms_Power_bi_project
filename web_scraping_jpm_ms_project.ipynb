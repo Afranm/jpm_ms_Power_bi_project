{
  "nbformat": 4,
  "nbformat_minor": 0,
  "metadata": {
    "colab": {
      "provenance": []
    },
    "kernelspec": {
      "name": "python3",
      "display_name": "Python 3"
    },
    "language_info": {
      "name": "python"
    }
  },
  "cells": [
    {
      "cell_type": "code",
      "execution_count": null,
      "metadata": {
        "colab": {
          "base_uri": "https://localhost:8080/"
        },
        "id": "9hUtm8DRmYEE",
        "outputId": "5dceefe3-bf14-4eb9-942e-9af132d9de67"
      },
      "outputs": [
        {
          "output_type": "stream",
          "name": "stdout",
          "text": [
            "               Open    High     Low   Close  \\\n",
            "Date                                          \n",
            "Jun 7, 2024  197.43  200.92  197.01  199.95   \n",
            "Jun 6, 2024  197.26  198.02  195.33  196.91   \n",
            "Jun 5, 2024  199.76  199.82  196.92  197.26   \n",
            "Jun 4, 2024  200.16  201.98  198.28  199.16   \n",
            "Jun 3, 2024  202.31  202.42  199.19  201.82   \n",
            "\n",
            "            Adj Close Adjusted close price adjusted for splits and dividend and/or capital gain distributions.  \\\n",
            "Date                                                                                                             \n",
            "Jun 7, 2024                                             199.95                                                   \n",
            "Jun 6, 2024                                             196.91                                                   \n",
            "Jun 5, 2024                                             197.26                                                   \n",
            "Jun 4, 2024                                             199.16                                                   \n",
            "Jun 3, 2024                                             201.82                                                   \n",
            "\n",
            "              Volume  \n",
            "Date                  \n",
            "Jun 7, 2024  6963400  \n",
            "Jun 6, 2024  7640300  \n",
            "Jun 5, 2024  8351600  \n",
            "Jun 4, 2024  6848300  \n",
            "Jun 3, 2024  6444300  \n"
          ]
        }
      ],
      "source": [
        "from bs4 import BeautifulSoup\n",
        "from io import StringIO\n",
        "import requests\n",
        "import pandas as pd\n",
        "\n",
        "url_JPM = 'https://finance.yahoo.com/quote/JPM/history/?period1=322151400&period2=1717879558'\n",
        "\n",
        "r = requests.get(url_JPM, headers={'User-Agent': 'Mozilla/5.0 (Windows NT 10.0; Win64; x64) AppleWebKit/537.36 (KHTML, like Gecko) Chrome/125.0.0.0 Safari/537.36'})\n",
        "soup = BeautifulSoup(r.text, 'lxml')\n",
        "\n",
        "table_element = soup.find('table')\n",
        "\n",
        "df_JPM = pd.read_html(StringIO(str(table_element)))[0].set_index('Date')\n",
        "df_JPM.rename(columns={'Close Close price adjusted for splits.': 'Close', 'Adj Close Adjusted close price adjusted for splits and divided and/or capital gain distributions.': 'Adj Close'}, inplace=True)\n",
        "\n",
        "print(df_JPM.head())\n"
      ]
    },
    {
      "cell_type": "code",
      "source": [
        "from bs4 import BeautifulSoup\n",
        "from io import StringIO\n",
        "import requests\n",
        "import pandas as pd\n",
        "\n",
        "url_MS = 'https://finance.yahoo.com/quote/MS/history/?period1=730477800&period2=1717698611'\n",
        "\n",
        "r = requests.get(url_MS, headers={'User-Agent': 'Mozilla/5.0 (Windows NT 10.0; Win64; x64) AppleWebKit/537.36 (KHTML, like Gecko) Chrome/125.0.0.0 Safari/537.36'})\n",
        "soup = BeautifulSoup(r.text, 'lxml')\n",
        "\n",
        "table_element = soup.find('table')\n",
        "\n",
        "df_MS = pd.read_html(StringIO(str(table_element)))[0].set_index('Date')\n",
        "df_MS.rename(columns={'Close Close price adjusted for splits.': 'Close', 'Adj Close Adjusted close price adjusted for splits and divided and/or capital gain distributions.': 'Adj Close'}, inplace=True)\n",
        "\n",
        "print(df_MS.head())\n"
      ],
      "metadata": {
        "colab": {
          "base_uri": "https://localhost:8080/"
        },
        "id": "ha_dVAPO4H4X",
        "outputId": "849f322f-0bc2-4504-ee78-63460c14f473"
      },
      "execution_count": null,
      "outputs": [
        {
          "output_type": "stream",
          "name": "stdout",
          "text": [
            "               Open   High    Low  Close  \\\n",
            "Date                                       \n",
            "Jun 6, 2024   96.48  97.45  96.26  96.85   \n",
            "Jun 5, 2024   96.84  97.61  96.50  96.66   \n",
            "Jun 4, 2024   96.25  97.55  95.67  96.58   \n",
            "Jun 3, 2024   98.16  98.16  96.53  97.41   \n",
            "May 31, 2024  97.33  97.96  96.40  97.84   \n",
            "\n",
            "             Adj Close Adjusted close price adjusted for splits and dividend and/or capital gain distributions.  \\\n",
            "Date                                                                                                              \n",
            "Jun 6, 2024                                               96.85                                                   \n",
            "Jun 5, 2024                                               96.66                                                   \n",
            "Jun 4, 2024                                               96.58                                                   \n",
            "Jun 3, 2024                                               97.41                                                   \n",
            "May 31, 2024                                              97.84                                                   \n",
            "\n",
            "               Volume  \n",
            "Date                   \n",
            "Jun 6, 2024   4741200  \n",
            "Jun 5, 2024   4499700  \n",
            "Jun 4, 2024   5409600  \n",
            "Jun 3, 2024   5671200  \n",
            "May 31, 2024  7155500  \n"
          ]
        }
      ]
    },
    {
      "cell_type": "code",
      "source": [
        "%%writefile web_scraper.py\n",
        "import requests\n",
        "from bs4 import BeautifulSoup\n",
        "\n",
        "class WebScraper:\n",
        "    @staticmethod\n",
        "    def grab_html(url):\n",
        "        headers = {'User-Agent': 'Mozilla/5.0 (Windows NT 10.0; Win64; x64) AppleWebKit/537.36 (KHTML, like Gecko) Chrome/125.0.0.0 Safari/537.36'}\n",
        "        response = requests.get(url, headers=headers)\n",
        "        if response.status_code == 200:\n",
        "            return response.text\n",
        "        else:\n",
        "            raise Exception(f\"Failed to retrieve data from {url}\")\n",
        "\n",
        "    @staticmethod\n",
        "    def find_table(html):\n",
        "        soup = BeautifulSoup(html, 'lxml')\n",
        "        table = soup.find('table')\n",
        "        return str(table)\n"
      ],
      "metadata": {
        "colab": {
          "base_uri": "https://localhost:8080/"
        },
        "id": "t0Gu3vujDDjk",
        "outputId": "549892c9-08c6-4906-e6cd-873667c0b78a"
      },
      "execution_count": null,
      "outputs": [
        {
          "output_type": "stream",
          "name": "stdout",
          "text": [
            "Writing web_scraper.py\n"
          ]
        }
      ]
    },
    {
      "cell_type": "code",
      "source": [
        "%%writefile df_utils.py\n",
        "import pandas as pd\n",
        "\n",
        "class DataframeMethods:\n",
        "    def __init__(self, name, table_html):\n",
        "        self.name = name\n",
        "        self.df = pd.read_html(table_html)[0]\n",
        "\n",
        "    def rename_columns(self):\n",
        "        self.df.rename(columns={\n",
        "            'Close*': 'Close',\n",
        "            'Adj Close**': 'Adj Close'\n",
        "        }, inplace=True)\n",
        "\n",
        "    def export_to_csv(self):\n",
        "        self.df.to_csv(f'{self.name}_history.csv', index=False)\n"
      ],
      "metadata": {
        "colab": {
          "base_uri": "https://localhost:8080/"
        },
        "id": "olKStUbOGDFE",
        "outputId": "b90337f5-44c8-4ef0-ebff-1aabf6284550"
      },
      "execution_count": null,
      "outputs": [
        {
          "output_type": "stream",
          "name": "stdout",
          "text": [
            "Writing df_utils.py\n"
          ]
        }
      ]
    },
    {
      "cell_type": "code",
      "source": [
        "import pandas as pd\n",
        "from web_scraper import WebScraper\n",
        "from df_utils import DataframeMethods\n",
        "\n",
        "url_JPM = 'https://finance.yahoo.com/quote/JPM/history/?period1=322151400&period2=1717879558'\n",
        "url_MS = 'https://finance.yahoo.com/quote/MS/history/?period1=730477800&period2=1717698611'\n",
        "\n",
        "html_JPM = WebScraper.grab_html(url=url_JPM)\n",
        "html_MS = WebScraper.grab_html(url=url_MS)\n",
        "\n",
        "table_JPM = WebScraper.find_table(html_JPM)\n",
        "table_MS = WebScraper.find_table(html_MS)\n",
        "\n",
        "df_util_JPM = DataframeMethods(\"JPM\", table_JPM)\n",
        "df_util_JPM.rename_columns()\n",
        "df_util_JPM.export_to_csv()\n",
        "\n",
        "df_util_MS = DataframeMethods(\"MS\", table_MS)\n",
        "df_util_MS.rename_columns()\n",
        "df_util_MS.export_to_csv()"
      ],
      "metadata": {
        "id": "swZuJrG1wwiZ"
      },
      "execution_count": null,
      "outputs": []
    }
  ]
}